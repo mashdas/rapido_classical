{
  "nbformat": 4,
  "nbformat_minor": 0,
  "metadata": {
    "colab": {
      "name": "augment_final.ipynb",
      "provenance": [],
      "collapsed_sections": [],
      "authorship_tag": "ABX9TyNY7mw9Saw6udZFjTf+C51y",
      "include_colab_link": true
    },
    "kernelspec": {
      "name": "python3",
      "display_name": "Python 3"
    },
    "accelerator": "TPU"
  },
  "cells": [
    {
      "cell_type": "markdown",
      "metadata": {
        "id": "view-in-github",
        "colab_type": "text"
      },
      "source": [
        "<a href=\"https://colab.research.google.com/github/mashdas/rapido_classical/blob/master/augment_final.ipynb\" target=\"_parent\"><img src=\"https://colab.research.google.com/assets/colab-badge.svg\" alt=\"Open In Colab\"/></a>"
      ]
    },
    {
      "cell_type": "code",
      "metadata": {
        "id": "1Io0-pkUWEwa",
        "colab_type": "code",
        "colab": {}
      },
      "source": [
        "import tensorflow as tf\n",
        "try:\n",
        "  tpu = tf.distribute.cluster_resolver.TPUClusterResolver() # TPU detection\n",
        "except ValueError: # If TPU not found\n",
        "  tpu = None"
      ],
      "execution_count": 2,
      "outputs": []
    },
    {
      "cell_type": "code",
      "metadata": {
        "id": "iJINLRZiWEsu",
        "colab_type": "code",
        "colab": {}
      },
      "source": [
        "# Select appropriate distribution strategy\n",
        "if tpu:\n",
        "  tf.tpu.experimental.initialize_tpu_system(tpu)\n",
        "  strategy = tf.distribute.experimental.TPUStrategy(tpu, steps_per_run=128)\n",
        "  print('Running on TPU ', tpu.cluster_spec().as_dict()['worker'])  \n",
        "else:\n",
        "  strategy = tf.distribute.get_strategy() # Default strategy that works on CPU and single GPU\n",
        "  print('Running on CPU instead')\n",
        "print(\"Number of accelerators: \", strategy.num_replicas_in_sync)"
      ],
      "execution_count": null,
      "outputs": []
    },
    {
      "cell_type": "markdown",
      "metadata": {
        "id": "vG_DSSciZDnP",
        "colab_type": "text"
      },
      "source": [
        ""
      ]
    },
    {
      "cell_type": "code",
      "metadata": {
        "id": "l7qCnSjN7kZ0",
        "colab_type": "code",
        "colab": {}
      },
      "source": [
        "import pandas as pd\n",
        "import numpy as np\n",
        "import matplotlib.pyplot as plt\n",
        "import random\n",
        "\n",
        "##Global frame list\n",
        "frames=[]\n",
        "\n",
        "def one_metric(x,y):\n",
        "    return np.sqrt(x**2+y**2)\n",
        "\n",
        "\n",
        "def hist_plot(data):\n",
        "    fig, axs = plt.subplots(1, 2, sharey=True, tight_layout=True)\n",
        "    n_bins = int(data.shape[0]/2)\n",
        "    return axs[0].hist(data, bins=n_bins)\n",
        "    \n",
        "\n",
        "def augment(csv):\n",
        "  \n",
        "  gen_values=0\n",
        "  data=pd.read_csv(csv,na_values=[' None','NA','NaN'])\n",
        "  print(\"STATUS :\",data.isnull().sum())\n",
        "  X=data.copy()\n",
        "  X[\"pick_lat\"]=X.apply(lambda row:row['pick_lat']*1000000,axis=1)\n",
        "  X[\"pick_lng\"]=X.apply(lambda row:row['pick_lng']*1000000,axis=1)\n",
        "  X[\"time\"]=X.apply(lambda row: round(row['time'],2)*100,axis=1)\n",
        "  ids=set(X[\"number\"].values)\n",
        "  for id in ids:\n",
        "    dX=X[X[\"number\"]==id].copy()\n",
        "    dX[\"loc\"]=dX.apply(lambda row:one_metric(row[\"pick_lat\"],row[\"pick_lng\"]),axis=1)\n",
        "    xs,ys=dX[\"loc\"],dX[\"time\"]\n",
        "    ##Histogram plot for sampling negatives(location)\n",
        "    f_loc_data=hist_plot(xs)\n",
        "    #f_loc_data[0]##Holds Frequency\n",
        "    #f_loc_data[1]##Holds Location\n",
        "    indexes=[]\n",
        "    for i,x in enumerate(f_loc_data[0]):\n",
        "      if x==0:\n",
        "        indexes.append(i)\n",
        "    neg_positions=[f_loc_data[1][x] for x in indexes ]\n",
        "    #Histogram for sampling negatives(time)\n",
        "    f_time_data=hist_plot(ys)\n",
        "    time_indexes=[]\n",
        "    for i,x in enumerate(f_time_data[0]):#0 index holds frequency\n",
        "      if x==0:\n",
        "        time_indexes.append(i)\n",
        "    neg_time=[f_time_data[1][i] for i in time_indexes]\n",
        "    \n",
        "    mn=min(len(neg_time),len(neg_positions),int(dX.shape[0]/2))\n",
        "    gen_values+=mn\n",
        "    neg_time=random.sample(neg_time,mn)\n",
        "    neg_positions=random.sample(neg_positions,mn)\n",
        "    ##Dropping the unamed column\n",
        "    dX.drop(dX.columns[dX.columns.str.contains('Unnamed',case = False)],axis = 1, inplace = True)\n",
        "    ##Dropping unnescessary values\n",
        "    dX.drop([\"pick_lat\",\"pick_lng\"],axis=1,inplace=True)  \n",
        "    X_df=pd.DataFrame(columns=[\"number\",\"time\",\"result\",\"loc\"])\n",
        "    ##Populating the negative dataframe\n",
        "    X_df[\"number\"],X_df[\"time\"],X_df[\"result\"],X_df[\"loc\"]=[int(id) for _ in range(mn)],neg_time,[0 for _ in range(mn)],neg_positions\n",
        "    ##Combining the negative and positive:\n",
        "    X_new=None\n",
        "    X_new=pd.concat([dX,X_df])\n",
        "    ##Shuffling \n",
        "    X_new= X_new.sample(frac=1).reset_index(drop=True)\n",
        "    frames.append(X_new)\n",
        "    plt.close('all')\n",
        "\n",
        "  print(gen_values)   \n",
        "  return pd.concat(frames)"
      ],
      "execution_count": 1,
      "outputs": []
    },
    {
      "cell_type": "code",
      "metadata": {
        "id": "W4i1ddgrLTJi",
        "colab_type": "code",
        "colab": {
          "base_uri": "https://localhost:8080/",
          "height": 158
        },
        "outputId": "0ad58833-43eb-47b7-fbc1-59c7c802e77e"
      },
      "source": [
        "x=augment('7data.csv')"
      ],
      "execution_count": 2,
      "outputs": [
        {
          "output_type": "stream",
          "text": [
            "STATUS : Unnamed: 0    0\n",
            "number        0\n",
            "pick_lat      0\n",
            "pick_lng      0\n",
            "time          0\n",
            "result        0\n",
            "dtype: int64\n",
            "79880\n"
          ],
          "name": "stdout"
        }
      ]
    },
    {
      "cell_type": "code",
      "metadata": {
        "id": "3h1gRQhrPffT",
        "colab_type": "code",
        "colab": {}
      },
      "source": [
        "x.to_csv('7data_augmented.csv')"
      ],
      "execution_count": 6,
      "outputs": []
    },
    {
      "cell_type": "code",
      "metadata": {
        "id": "7rZcWuOukrIc",
        "colab_type": "code",
        "colab": {
          "base_uri": "https://localhost:8080/",
          "height": 105
        },
        "outputId": "ad1c13bb-a7bb-44d5-f521-00205e03b0ab"
      },
      "source": [
        "x.isnull().sum()"
      ],
      "execution_count": 5,
      "outputs": [
        {
          "output_type": "execute_result",
          "data": {
            "text/plain": [
              "number    0\n",
              "time      0\n",
              "result    0\n",
              "loc       0\n",
              "dtype: int64"
            ]
          },
          "metadata": {
            "tags": []
          },
          "execution_count": 5
        }
      ]
    },
    {
      "cell_type": "code",
      "metadata": {
        "id": "eHC0g7vGgpgo",
        "colab_type": "code",
        "colab": {}
      },
      "source": [
        "x=pd.read_csv('7data.csv')"
      ],
      "execution_count": 17,
      "outputs": []
    },
    {
      "cell_type": "code",
      "metadata": {
        "id": "6lLgGA_uiXTW",
        "colab_type": "code",
        "colab": {}
      },
      "source": [
        ""
      ],
      "execution_count": null,
      "outputs": []
    }
  ]
}