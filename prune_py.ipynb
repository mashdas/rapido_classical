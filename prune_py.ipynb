{
  "nbformat": 4,
  "nbformat_minor": 0,
  "metadata": {
    "colab": {
      "name": "prune.py",
      "provenance": [],
      "collapsed_sections": [],
      "authorship_tag": "ABX9TyOZ51p9UOG3WK0TLv+SNLww",
      "include_colab_link": true
    },
    "kernelspec": {
      "name": "python3",
      "display_name": "Python 3"
    }
  },
  "cells": [
    {
      "cell_type": "markdown",
      "metadata": {
        "id": "view-in-github",
        "colab_type": "text"
      },
      "source": [
        "<a href=\"https://colab.research.google.com/github/mashdas/rapido_classical/blob/master/prune_py.ipynb\" target=\"_parent\"><img src=\"https://colab.research.google.com/assets/colab-badge.svg\" alt=\"Open In Colab\"/></a>"
      ]
    },
    {
      "cell_type": "code",
      "metadata": {
        "id": "kxjaCJt5vP1G",
        "colab_type": "code",
        "colab": {
          "base_uri": "https://localhost:8080/",
          "height": 82
        },
        "outputId": "d0014ded-2123-4413-ec2c-80f4751e4fca"
      },
      "source": [
        "!unzip ct_rr.csv.zip"
      ],
      "execution_count": null,
      "outputs": [
        {
          "output_type": "stream",
          "text": [
            "Archive:  ct_rr.csv.zip\n",
            "  inflating: ct_rr.csv               \n",
            "   creating: __MACOSX/\n",
            "  inflating: __MACOSX/._ct_rr.csv    \n"
          ],
          "name": "stdout"
        }
      ]
    },
    {
      "cell_type": "code",
      "metadata": {
        "id": "zcO7O6fS0PsU",
        "colab_type": "code",
        "colab": {}
      },
      "source": [
        "import pandas as pd\n",
        "import numpy as np\n",
        "from dateutil import parser"
      ],
      "execution_count": null,
      "outputs": []
    },
    {
      "cell_type": "code",
      "metadata": {
        "id": "YKX2l6iy0Uwl",
        "colab_type": "code",
        "colab": {}
      },
      "source": [
        "data=pd.read_csv('ct_rr.csv',na_values=[' None'])"
      ],
      "execution_count": 170,
      "outputs": []
    },
    {
      "cell_type": "code",
      "metadata": {
        "id": "MjyZh2nG7wp6",
        "colab_type": "code",
        "colab": {
          "base_uri": "https://localhost:8080/",
          "height": 33
        },
        "outputId": "fd12a26a-7a81-4409-f876-eeca1b72e1ca"
      },
      "source": [
        "len(data)"
      ],
      "execution_count": 171,
      "outputs": [
        {
          "output_type": "execute_result",
          "data": {
            "text/plain": [
              "8381556"
            ]
          },
          "metadata": {
            "tags": []
          },
          "execution_count": 171
        }
      ]
    },
    {
      "cell_type": "code",
      "metadata": {
        "id": "dRNtttUP6jTx",
        "colab_type": "code",
        "colab": {}
      },
      "source": [
        "##Dropping the NA values\n",
        "data.dropna(axis=0,inplace=True)"
      ],
      "execution_count": 172,
      "outputs": []
    },
    {
      "cell_type": "code",
      "metadata": {
        "id": "IIuFHvpy7okH",
        "colab_type": "code",
        "colab": {
          "base_uri": "https://localhost:8080/",
          "height": 131
        },
        "outputId": "75f52197-1f38-49eb-96a5-bc877257e698"
      },
      "source": [
        "#Sanity Check\n",
        "data.isnull().sum()"
      ],
      "execution_count": 173,
      "outputs": [
        {
          "output_type": "execute_result",
          "data": {
            "text/plain": [
              "ts          0\n",
              "number      0\n",
              "pick_lat    0\n",
              "pick_lng    0\n",
              "drop_lat    0\n",
              "drop_lng    0\n",
              "dtype: int64"
            ]
          },
          "metadata": {
            "tags": []
          },
          "execution_count": 173
        }
      ]
    },
    {
      "cell_type": "code",
      "metadata": {
        "id": "89uOnmeC7_yz",
        "colab_type": "code",
        "colab": {
          "base_uri": "https://localhost:8080/",
          "height": 191
        },
        "outputId": "aff275fc-ae3e-4b0e-fabc-9b52b7af898f"
      },
      "source": [
        "data.head(5)"
      ],
      "execution_count": 174,
      "outputs": [
        {
          "output_type": "execute_result",
          "data": {
            "text/html": [
              "<div>\n",
              "<style scoped>\n",
              "    .dataframe tbody tr th:only-of-type {\n",
              "        vertical-align: middle;\n",
              "    }\n",
              "\n",
              "    .dataframe tbody tr th {\n",
              "        vertical-align: top;\n",
              "    }\n",
              "\n",
              "    .dataframe thead th {\n",
              "        text-align: right;\n",
              "    }\n",
              "</style>\n",
              "<table border=\"1\" class=\"dataframe\">\n",
              "  <thead>\n",
              "    <tr style=\"text-align: right;\">\n",
              "      <th></th>\n",
              "      <th>ts</th>\n",
              "      <th>number</th>\n",
              "      <th>pick_lat</th>\n",
              "      <th>pick_lng</th>\n",
              "      <th>drop_lat</th>\n",
              "      <th>drop_lng</th>\n",
              "    </tr>\n",
              "  </thead>\n",
              "  <tbody>\n",
              "    <tr>\n",
              "      <th>0</th>\n",
              "      <td>2018-04-07 07:07:17</td>\n",
              "      <td>14626.0</td>\n",
              "      <td>12.313621</td>\n",
              "      <td>76.658195</td>\n",
              "      <td>12.287301</td>\n",
              "      <td>76.602280</td>\n",
              "    </tr>\n",
              "    <tr>\n",
              "      <th>1</th>\n",
              "      <td>2018-04-07 07:32:27</td>\n",
              "      <td>85490.0</td>\n",
              "      <td>12.943947</td>\n",
              "      <td>77.560745</td>\n",
              "      <td>12.954014</td>\n",
              "      <td>77.543770</td>\n",
              "    </tr>\n",
              "    <tr>\n",
              "      <th>2</th>\n",
              "      <td>2018-04-07 07:36:44</td>\n",
              "      <td>5408.0</td>\n",
              "      <td>12.899603</td>\n",
              "      <td>77.587300</td>\n",
              "      <td>12.934780</td>\n",
              "      <td>77.569950</td>\n",
              "    </tr>\n",
              "    <tr>\n",
              "      <th>3</th>\n",
              "      <td>2018-04-07 07:38:00</td>\n",
              "      <td>58940.0</td>\n",
              "      <td>12.918229</td>\n",
              "      <td>77.607544</td>\n",
              "      <td>12.968971</td>\n",
              "      <td>77.636375</td>\n",
              "    </tr>\n",
              "    <tr>\n",
              "      <th>4</th>\n",
              "      <td>2018-04-07 07:39:29</td>\n",
              "      <td>5408.0</td>\n",
              "      <td>12.899490</td>\n",
              "      <td>77.587270</td>\n",
              "      <td>12.934780</td>\n",
              "      <td>77.569950</td>\n",
              "    </tr>\n",
              "  </tbody>\n",
              "</table>\n",
              "</div>"
            ],
            "text/plain": [
              "                    ts   number   pick_lat   pick_lng   drop_lat   drop_lng\n",
              "0  2018-04-07 07:07:17  14626.0  12.313621  76.658195  12.287301  76.602280\n",
              "1  2018-04-07 07:32:27  85490.0  12.943947  77.560745  12.954014  77.543770\n",
              "2  2018-04-07 07:36:44   5408.0  12.899603  77.587300  12.934780  77.569950\n",
              "3  2018-04-07 07:38:00  58940.0  12.918229  77.607544  12.968971  77.636375\n",
              "4  2018-04-07 07:39:29   5408.0  12.899490  77.587270  12.934780  77.569950"
            ]
          },
          "metadata": {
            "tags": []
          },
          "execution_count": 174
        }
      ]
    },
    {
      "cell_type": "code",
      "metadata": {
        "id": "uqFVBtM-8Jtf",
        "colab_type": "code",
        "colab": {
          "base_uri": "https://localhost:8080/",
          "height": 33
        },
        "outputId": "845d3c76-079d-4023-d358-78b44b5e300a"
      },
      "source": [
        "len(data[\"number\"].unique())"
      ],
      "execution_count": 176,
      "outputs": [
        {
          "output_type": "execute_result",
          "data": {
            "text/plain": [
              "94274"
            ]
          },
          "metadata": {
            "tags": []
          },
          "execution_count": 176
        }
      ]
    },
    {
      "cell_type": "code",
      "metadata": {
        "id": "K5wDQHT-8SJk",
        "colab_type": "code",
        "colab": {}
      },
      "source": [
        "##need to extract date and time from ts for more granular analysis"
      ],
      "execution_count": 177,
      "outputs": []
    },
    {
      "cell_type": "code",
      "metadata": {
        "id": "X3oT9JlaHwqN",
        "colab_type": "code",
        "colab": {}
      },
      "source": [
        "data[\"day\"]=data.apply(lambda row:parser.parse(row['ts']).isoweekday(), axis = 1)"
      ],
      "execution_count": 178,
      "outputs": []
    },
    {
      "cell_type": "code",
      "metadata": {
        "id": "yqS4iWMvIgVe",
        "colab_type": "code",
        "colab": {}
      },
      "source": [
        "##Mapping days to values:\n",
        "data[\"day\"]=data[\"day\"].map({1:\"Mon\",2:\"Tue\",3:\"Wed\",4:\"Thr\",5:\"Fri\",6:\"Sat\",7:\"Sun\"})"
      ],
      "execution_count": 179,
      "outputs": []
    },
    {
      "cell_type": "code",
      "metadata": {
        "id": "SK0h5eguMCio",
        "colab_type": "code",
        "colab": {
          "base_uri": "https://localhost:8080/",
          "height": 191
        },
        "outputId": "71bf5cb3-42ef-4184-9b9c-20232093a84b"
      },
      "source": [
        "data.head(5)"
      ],
      "execution_count": 180,
      "outputs": [
        {
          "output_type": "execute_result",
          "data": {
            "text/html": [
              "<div>\n",
              "<style scoped>\n",
              "    .dataframe tbody tr th:only-of-type {\n",
              "        vertical-align: middle;\n",
              "    }\n",
              "\n",
              "    .dataframe tbody tr th {\n",
              "        vertical-align: top;\n",
              "    }\n",
              "\n",
              "    .dataframe thead th {\n",
              "        text-align: right;\n",
              "    }\n",
              "</style>\n",
              "<table border=\"1\" class=\"dataframe\">\n",
              "  <thead>\n",
              "    <tr style=\"text-align: right;\">\n",
              "      <th></th>\n",
              "      <th>ts</th>\n",
              "      <th>number</th>\n",
              "      <th>pick_lat</th>\n",
              "      <th>pick_lng</th>\n",
              "      <th>drop_lat</th>\n",
              "      <th>drop_lng</th>\n",
              "      <th>day</th>\n",
              "    </tr>\n",
              "  </thead>\n",
              "  <tbody>\n",
              "    <tr>\n",
              "      <th>0</th>\n",
              "      <td>2018-04-07 07:07:17</td>\n",
              "      <td>14626.0</td>\n",
              "      <td>12.313621</td>\n",
              "      <td>76.658195</td>\n",
              "      <td>12.287301</td>\n",
              "      <td>76.602280</td>\n",
              "      <td>Sat</td>\n",
              "    </tr>\n",
              "    <tr>\n",
              "      <th>1</th>\n",
              "      <td>2018-04-07 07:32:27</td>\n",
              "      <td>85490.0</td>\n",
              "      <td>12.943947</td>\n",
              "      <td>77.560745</td>\n",
              "      <td>12.954014</td>\n",
              "      <td>77.543770</td>\n",
              "      <td>Sat</td>\n",
              "    </tr>\n",
              "    <tr>\n",
              "      <th>2</th>\n",
              "      <td>2018-04-07 07:36:44</td>\n",
              "      <td>5408.0</td>\n",
              "      <td>12.899603</td>\n",
              "      <td>77.587300</td>\n",
              "      <td>12.934780</td>\n",
              "      <td>77.569950</td>\n",
              "      <td>Sat</td>\n",
              "    </tr>\n",
              "    <tr>\n",
              "      <th>3</th>\n",
              "      <td>2018-04-07 07:38:00</td>\n",
              "      <td>58940.0</td>\n",
              "      <td>12.918229</td>\n",
              "      <td>77.607544</td>\n",
              "      <td>12.968971</td>\n",
              "      <td>77.636375</td>\n",
              "      <td>Sat</td>\n",
              "    </tr>\n",
              "    <tr>\n",
              "      <th>4</th>\n",
              "      <td>2018-04-07 07:39:29</td>\n",
              "      <td>5408.0</td>\n",
              "      <td>12.899490</td>\n",
              "      <td>77.587270</td>\n",
              "      <td>12.934780</td>\n",
              "      <td>77.569950</td>\n",
              "      <td>Sat</td>\n",
              "    </tr>\n",
              "  </tbody>\n",
              "</table>\n",
              "</div>"
            ],
            "text/plain": [
              "                    ts   number   pick_lat  ...   drop_lat   drop_lng  day\n",
              "0  2018-04-07 07:07:17  14626.0  12.313621  ...  12.287301  76.602280  Sat\n",
              "1  2018-04-07 07:32:27  85490.0  12.943947  ...  12.954014  77.543770  Sat\n",
              "2  2018-04-07 07:36:44   5408.0  12.899603  ...  12.934780  77.569950  Sat\n",
              "3  2018-04-07 07:38:00  58940.0  12.918229  ...  12.968971  77.636375  Sat\n",
              "4  2018-04-07 07:39:29   5408.0  12.899490  ...  12.934780  77.569950  Sat\n",
              "\n",
              "[5 rows x 7 columns]"
            ]
          },
          "metadata": {
            "tags": []
          },
          "execution_count": 180
        }
      ]
    },
    {
      "cell_type": "code",
      "metadata": {
        "id": "tDNXZnZ_MEfE",
        "colab_type": "code",
        "colab": {}
      },
      "source": [
        "def hour_mapper(x):\n",
        "  stuff=x.split(' ')[1].split(':')\n",
        "  return int(stuff[0])+int(stuff[1])/60+int(stuff[2])/3600\n"
      ],
      "execution_count": 181,
      "outputs": []
    },
    {
      "cell_type": "code",
      "metadata": {
        "id": "mJaoXwDtMNlt",
        "colab_type": "code",
        "colab": {}
      },
      "source": [
        "data[\"time\"]=data.apply(lambda row: hour_mapper(row['ts']),axis=1)"
      ],
      "execution_count": 182,
      "outputs": []
    },
    {
      "cell_type": "code",
      "metadata": {
        "id": "zbhFOE-sMU3M",
        "colab_type": "code",
        "colab": {
          "base_uri": "https://localhost:8080/",
          "height": 191
        },
        "outputId": "95c17dba-4c3d-4042-be60-52494c4a2d9d"
      },
      "source": [
        "data.head()"
      ],
      "execution_count": 183,
      "outputs": [
        {
          "output_type": "execute_result",
          "data": {
            "text/html": [
              "<div>\n",
              "<style scoped>\n",
              "    .dataframe tbody tr th:only-of-type {\n",
              "        vertical-align: middle;\n",
              "    }\n",
              "\n",
              "    .dataframe tbody tr th {\n",
              "        vertical-align: top;\n",
              "    }\n",
              "\n",
              "    .dataframe thead th {\n",
              "        text-align: right;\n",
              "    }\n",
              "</style>\n",
              "<table border=\"1\" class=\"dataframe\">\n",
              "  <thead>\n",
              "    <tr style=\"text-align: right;\">\n",
              "      <th></th>\n",
              "      <th>ts</th>\n",
              "      <th>number</th>\n",
              "      <th>pick_lat</th>\n",
              "      <th>pick_lng</th>\n",
              "      <th>drop_lat</th>\n",
              "      <th>drop_lng</th>\n",
              "      <th>day</th>\n",
              "      <th>time</th>\n",
              "    </tr>\n",
              "  </thead>\n",
              "  <tbody>\n",
              "    <tr>\n",
              "      <th>0</th>\n",
              "      <td>2018-04-07 07:07:17</td>\n",
              "      <td>14626.0</td>\n",
              "      <td>12.313621</td>\n",
              "      <td>76.658195</td>\n",
              "      <td>12.287301</td>\n",
              "      <td>76.602280</td>\n",
              "      <td>Sat</td>\n",
              "      <td>7.121389</td>\n",
              "    </tr>\n",
              "    <tr>\n",
              "      <th>1</th>\n",
              "      <td>2018-04-07 07:32:27</td>\n",
              "      <td>85490.0</td>\n",
              "      <td>12.943947</td>\n",
              "      <td>77.560745</td>\n",
              "      <td>12.954014</td>\n",
              "      <td>77.543770</td>\n",
              "      <td>Sat</td>\n",
              "      <td>7.540833</td>\n",
              "    </tr>\n",
              "    <tr>\n",
              "      <th>2</th>\n",
              "      <td>2018-04-07 07:36:44</td>\n",
              "      <td>5408.0</td>\n",
              "      <td>12.899603</td>\n",
              "      <td>77.587300</td>\n",
              "      <td>12.934780</td>\n",
              "      <td>77.569950</td>\n",
              "      <td>Sat</td>\n",
              "      <td>7.612222</td>\n",
              "    </tr>\n",
              "    <tr>\n",
              "      <th>3</th>\n",
              "      <td>2018-04-07 07:38:00</td>\n",
              "      <td>58940.0</td>\n",
              "      <td>12.918229</td>\n",
              "      <td>77.607544</td>\n",
              "      <td>12.968971</td>\n",
              "      <td>77.636375</td>\n",
              "      <td>Sat</td>\n",
              "      <td>7.633333</td>\n",
              "    </tr>\n",
              "    <tr>\n",
              "      <th>4</th>\n",
              "      <td>2018-04-07 07:39:29</td>\n",
              "      <td>5408.0</td>\n",
              "      <td>12.899490</td>\n",
              "      <td>77.587270</td>\n",
              "      <td>12.934780</td>\n",
              "      <td>77.569950</td>\n",
              "      <td>Sat</td>\n",
              "      <td>7.658056</td>\n",
              "    </tr>\n",
              "  </tbody>\n",
              "</table>\n",
              "</div>"
            ],
            "text/plain": [
              "                    ts   number   pick_lat  ...   drop_lng  day      time\n",
              "0  2018-04-07 07:07:17  14626.0  12.313621  ...  76.602280  Sat  7.121389\n",
              "1  2018-04-07 07:32:27  85490.0  12.943947  ...  77.543770  Sat  7.540833\n",
              "2  2018-04-07 07:36:44   5408.0  12.899603  ...  77.569950  Sat  7.612222\n",
              "3  2018-04-07 07:38:00  58940.0  12.918229  ...  77.636375  Sat  7.633333\n",
              "4  2018-04-07 07:39:29   5408.0  12.899490  ...  77.569950  Sat  7.658056\n",
              "\n",
              "[5 rows x 8 columns]"
            ]
          },
          "metadata": {
            "tags": []
          },
          "execution_count": 183
        }
      ]
    },
    {
      "cell_type": "code",
      "metadata": {
        "id": "_aHS_uWgNLei",
        "colab_type": "code",
        "colab": {
          "base_uri": "https://localhost:8080/",
          "height": 33
        },
        "outputId": "156e54ed-58ea-48aa-9554-bbcaadeafbc4"
      },
      "source": [
        "len(data[\"number\"].unique())"
      ],
      "execution_count": 184,
      "outputs": [
        {
          "output_type": "execute_result",
          "data": {
            "text/plain": [
              "94274"
            ]
          },
          "metadata": {
            "tags": []
          },
          "execution_count": 184
        }
      ]
    },
    {
      "cell_type": "code",
      "metadata": {
        "id": "REQa_21bNP5r",
        "colab_type": "code",
        "colab": {}
      },
      "source": [
        "d_mon,d_tue,d_wed,d_thr,d_fri,d_sat,d_sun=data[data[\"day\"]==\"Mon\"].copy(),data[data[\"day\"]==\"Tue\"].copy(),data[data[\"day\"]==\"Wed\"].copy(),data[data[\"day\"]==\"Thr\"].copy(),data[data[\"day\"]==\"Fri\"].copy(),data[data[\"day\"]==\"Sat\"].copy(),data[data[\"day\"]==\"Sun\"].copy()"
      ],
      "execution_count": 185,
      "outputs": []
    },
    {
      "cell_type": "code",
      "metadata": {
        "id": "RkQUWu-UPEjl",
        "colab_type": "code",
        "colab": {
          "base_uri": "https://localhost:8080/",
          "height": 33
        },
        "outputId": "6c230668-7e89-489e-fd8e-75b8c0f27778"
      },
      "source": [
        "set(data[\"day\"])"
      ],
      "execution_count": 186,
      "outputs": [
        {
          "output_type": "execute_result",
          "data": {
            "text/plain": [
              "{'Fri', 'Mon', 'Sat', 'Sun', 'Thr', 'Tue', 'Wed'}"
            ]
          },
          "metadata": {
            "tags": []
          },
          "execution_count": 186
        }
      ]
    },
    {
      "cell_type": "code",
      "metadata": {
        "id": "mbudn9zlPGo4",
        "colab_type": "code",
        "colab": {
          "base_uri": "https://localhost:8080/",
          "height": 191
        },
        "outputId": "bca08e72-4ea3-4556-878c-6ad9eaa000ba"
      },
      "source": [
        "d_mon.head()"
      ],
      "execution_count": 187,
      "outputs": [
        {
          "output_type": "execute_result",
          "data": {
            "text/html": [
              "<div>\n",
              "<style scoped>\n",
              "    .dataframe tbody tr th:only-of-type {\n",
              "        vertical-align: middle;\n",
              "    }\n",
              "\n",
              "    .dataframe tbody tr th {\n",
              "        vertical-align: top;\n",
              "    }\n",
              "\n",
              "    .dataframe thead th {\n",
              "        text-align: right;\n",
              "    }\n",
              "</style>\n",
              "<table border=\"1\" class=\"dataframe\">\n",
              "  <thead>\n",
              "    <tr style=\"text-align: right;\">\n",
              "      <th></th>\n",
              "      <th>ts</th>\n",
              "      <th>number</th>\n",
              "      <th>pick_lat</th>\n",
              "      <th>pick_lng</th>\n",
              "      <th>drop_lat</th>\n",
              "      <th>drop_lng</th>\n",
              "      <th>day</th>\n",
              "      <th>time</th>\n",
              "    </tr>\n",
              "  </thead>\n",
              "  <tbody>\n",
              "    <tr>\n",
              "      <th>15091</th>\n",
              "      <td>2018-04-09 00:10:58</td>\n",
              "      <td>29372.0</td>\n",
              "      <td>12.925840</td>\n",
              "      <td>77.60910</td>\n",
              "      <td>13.002063</td>\n",
              "      <td>77.622795</td>\n",
              "      <td>Mon</td>\n",
              "      <td>0.182778</td>\n",
              "    </tr>\n",
              "    <tr>\n",
              "      <th>15092</th>\n",
              "      <td>2018-04-09 00:11:52</td>\n",
              "      <td>23598.0</td>\n",
              "      <td>12.936879</td>\n",
              "      <td>77.60243</td>\n",
              "      <td>12.887472</td>\n",
              "      <td>77.592440</td>\n",
              "      <td>Mon</td>\n",
              "      <td>0.197778</td>\n",
              "    </tr>\n",
              "    <tr>\n",
              "      <th>15093</th>\n",
              "      <td>2018-04-09 00:12:10</td>\n",
              "      <td>29372.0</td>\n",
              "      <td>12.925840</td>\n",
              "      <td>77.60910</td>\n",
              "      <td>13.002063</td>\n",
              "      <td>77.622795</td>\n",
              "      <td>Mon</td>\n",
              "      <td>0.202778</td>\n",
              "    </tr>\n",
              "    <tr>\n",
              "      <th>15094</th>\n",
              "      <td>2018-04-09 00:12:28</td>\n",
              "      <td>23598.0</td>\n",
              "      <td>12.936879</td>\n",
              "      <td>77.60243</td>\n",
              "      <td>12.887472</td>\n",
              "      <td>77.592440</td>\n",
              "      <td>Mon</td>\n",
              "      <td>0.207778</td>\n",
              "    </tr>\n",
              "    <tr>\n",
              "      <th>15095</th>\n",
              "      <td>2018-04-09 00:13:12</td>\n",
              "      <td>23598.0</td>\n",
              "      <td>12.936879</td>\n",
              "      <td>77.60243</td>\n",
              "      <td>12.887472</td>\n",
              "      <td>77.592440</td>\n",
              "      <td>Mon</td>\n",
              "      <td>0.220000</td>\n",
              "    </tr>\n",
              "  </tbody>\n",
              "</table>\n",
              "</div>"
            ],
            "text/plain": [
              "                        ts   number   pick_lat  ...   drop_lng  day      time\n",
              "15091  2018-04-09 00:10:58  29372.0  12.925840  ...  77.622795  Mon  0.182778\n",
              "15092  2018-04-09 00:11:52  23598.0  12.936879  ...  77.592440  Mon  0.197778\n",
              "15093  2018-04-09 00:12:10  29372.0  12.925840  ...  77.622795  Mon  0.202778\n",
              "15094  2018-04-09 00:12:28  23598.0  12.936879  ...  77.592440  Mon  0.207778\n",
              "15095  2018-04-09 00:13:12  23598.0  12.936879  ...  77.592440  Mon  0.220000\n",
              "\n",
              "[5 rows x 8 columns]"
            ]
          },
          "metadata": {
            "tags": []
          },
          "execution_count": 187
        }
      ]
    },
    {
      "cell_type": "code",
      "metadata": {
        "id": "s9KNJ5QVay0X",
        "colab_type": "code",
        "colab": {}
      },
      "source": [
        "def eligible(stuff):\n",
        "  tups=[]\n",
        "  ids=stuff[\"number\"].unique()\n",
        "  for x in ids:\n",
        "    tups.append((x,stuff[stuff[\"number\"]==x].shape[0]))\n",
        "  tups.sort(key=lambda x:x[1],reverse=True)\n",
        "  filtered_tups=filter(lambda x:x[1]>30,tups)\n",
        "  f_list=[x[0] for x in list(filtered_tups)]\n",
        "  return stuff.loc[stuff[\"number\"].isin(f_list)].copy()  "
      ],
      "execution_count": 188,
      "outputs": []
    },
    {
      "cell_type": "code",
      "metadata": {
        "id": "ciTqlvELeuor",
        "colab_type": "code",
        "colab": {}
      },
      "source": [
        "def data_beautify(s):\n",
        "  s.drop([\"ts\",\"day\",\"drop_lat\",\"drop_lng\"],inplace=True,axis=1)\n",
        "  s[\"result\"]=1\n",
        "  return s"
      ],
      "execution_count": 189,
      "outputs": []
    },
    {
      "cell_type": "code",
      "metadata": {
        "id": "2lSoqS41pidY",
        "colab_type": "code",
        "colab": {}
      },
      "source": [
        ""
      ],
      "execution_count": 189,
      "outputs": []
    },
    {
      "cell_type": "code",
      "metadata": {
        "id": "XgVNOe8itWnu",
        "colab_type": "code",
        "colab": {}
      },
      "source": [
        "sets=[d_mon,d_tue,d_wed,d_thr,d_fri,d_sat,d_sun]"
      ],
      "execution_count": 191,
      "outputs": []
    },
    {
      "cell_type": "code",
      "metadata": {
        "id": "1cs8pvAztWqT",
        "colab_type": "code",
        "colab": {}
      },
      "source": [
        "i=1\n",
        "for x in sets:\n",
        "  data_beautify(eligible(x.copy())).to_csv(str(i)+'data.csv')\n",
        "  i=i+1"
      ],
      "execution_count": 192,
      "outputs": []
    },
    {
      "cell_type": "code",
      "metadata": {
        "id": "LJEp1-mhu1Tj",
        "colab_type": "code",
        "colab": {}
      },
      "source": [
        ""
      ],
      "execution_count": 169,
      "outputs": []
    },
    {
      "cell_type": "code",
      "metadata": {
        "id": "OjfS2DL2tWwQ",
        "colab_type": "code",
        "colab": {}
      },
      "source": [
        ""
      ],
      "execution_count": null,
      "outputs": []
    },
    {
      "cell_type": "code",
      "metadata": {
        "id": "4uiD1FLdtWuN",
        "colab_type": "code",
        "colab": {}
      },
      "source": [
        ""
      ],
      "execution_count": null,
      "outputs": []
    }
  ]
}